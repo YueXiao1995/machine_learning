{
 "cells": [
  {
   "cell_type": "markdown",
   "metadata": {},
   "source": [
    "1. Linear Regression （线性回归）"
   ]
  },
  {
   "cell_type": "code",
   "execution_count": 1,
   "metadata": {},
   "outputs": [
    {
     "ename": "SyntaxError",
     "evalue": "invalid syntax (<ipython-input-1-624f356bb518>, line 1)",
     "output_type": "error",
     "traceback": [
      "\u001b[0;36m  File \u001b[0;32m\"<ipython-input-1-624f356bb518>\"\u001b[0;36m, line \u001b[0;32m1\u001b[0m\n\u001b[0;31m    某次實驗得到了四個數據點 {\\displaystyle (x,y)}(x, y)：{\\displaystyle (1,6)}(1,6)、{\\displaystyle (2,5)}(2,5)、{\\displaystyle (3,7)}(3,7)、{\\displaystyle (4,10)}(4,10)（右圖紅色的點）。我們希望找出一條和這四個點最匹配的直線 {\\displaystyle y=\\beta _{1}+\\beta _{2}x}y=\\beta _{1}+\\beta _{2}x，即找出在某種「最佳情況」下能夠大致符合如下超定線性方程組的 {\\displaystyle \\beta _{1}}\\beta _{1} 和 {\\displaystyle \\beta _{2}}\\beta _{2}：\u001b[0m\n\u001b[0m                 ^\u001b[0m\n\u001b[0;31mSyntaxError\u001b[0m\u001b[0;31m:\u001b[0m invalid syntax\n"
     ]
    }
   ],
   "source": [
    "def linearRegression():"
   ]
  },
  {
   "cell_type": "code",
   "execution_count": null,
   "metadata": {},
   "outputs": [],
   "source": []
  },
  {
   "cell_type": "markdown",
   "metadata": {},
   "source": [
    "2. Logistic Regression （逻辑回归）"
   ]
  },
  {
   "cell_type": "markdown",
   "metadata": {},
   "source": [
    "3. Polynomial Regression （多项式回归）"
   ]
  },
  {
   "cell_type": "markdown",
   "metadata": {},
   "source": [
    "4. Stepwise Regression （逐步回归）"
   ]
  },
  {
   "cell_type": "markdown",
   "metadata": {},
   "source": [
    "5. Ridge Regression （岭回归）"
   ]
  },
  {
   "cell_type": "markdown",
   "metadata": {},
   "source": [
    "6. Lasso Regression （套索回归）"
   ]
  },
  {
   "cell_type": "markdown",
   "metadata": {},
   "source": [
    "7. ElasticNet Regression （ElasticNet 回归）"
   ]
  },
  {
   "cell_type": "code",
   "execution_count": null,
   "metadata": {},
   "outputs": [],
   "source": []
  }
 ],
 "metadata": {
  "kernelspec": {
   "display_name": "Python 3",
   "language": "python",
   "name": "python3"
  },
  "language_info": {
   "codemirror_mode": {
    "name": "ipython",
    "version": 3
   },
   "file_extension": ".py",
   "mimetype": "text/x-python",
   "name": "python",
   "nbconvert_exporter": "python",
   "pygments_lexer": "ipython3",
   "version": "3.6.7"
  }
 },
 "nbformat": 4,
 "nbformat_minor": 2
}
